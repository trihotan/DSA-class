{
 "cells": [
  {
   "cell_type": "markdown",
   "id": "f5a833ad",
   "metadata": {},
   "source": [
    "# Bai 1: Hello world"
   ]
  },
  {
   "cell_type": "code",
   "execution_count": 1,
   "id": "a39bcddc",
   "metadata": {},
   "outputs": [
    {
     "name": "stdout",
     "output_type": "stream",
     "text": [
      "Hello world\n"
     ]
    }
   ],
   "source": [
    "# In ra man hinh dong chu \"Hello World\"\n",
    "print('Hello world')"
   ]
  },
  {
   "cell_type": "markdown",
   "id": "bd608e7e",
   "metadata": {},
   "source": [
    "# Bai 2: Khai bao bien"
   ]
  },
  {
   "cell_type": "code",
   "execution_count": 2,
   "id": "f8e201d5",
   "metadata": {},
   "outputs": [
    {
     "name": "stdout",
     "output_type": "stream",
     "text": [
      "<class 'str'>\n",
      "Hello world\n"
     ]
    }
   ],
   "source": [
    "# Khai bien\n",
    "var = \"Hello world\"\n",
    "# kieu du lieu, string\n",
    "print(type(var))\n",
    "# in bien so 'var' ra man hinh\n",
    "print(var)"
   ]
  },
  {
   "cell_type": "markdown",
   "id": "66521d79",
   "metadata": {},
   "source": [
    "# Bai 3: Bieu thuc"
   ]
  },
  {
   "cell_type": "code",
   "execution_count": 3,
   "id": "f7a4b73f",
   "metadata": {},
   "outputs": [
    {
     "name": "stdout",
     "output_type": "stream",
     "text": [
      "Hello world\n"
     ]
    }
   ],
   "source": [
    "# Khai bien\n",
    "a = \"Hello\"\n",
    "b = \"world\"\n",
    "# ket hop 2 bien\n",
    "c = a + \" \" + b\n",
    "#in ra man hinh bieu thuc\n",
    "print(c)"
   ]
  },
  {
   "cell_type": "markdown",
   "id": "c4b346d5",
   "metadata": {},
   "source": [
    "# Bai 4: Ham so"
   ]
  },
  {
   "cell_type": "code",
   "execution_count": 4,
   "id": "842e4401",
   "metadata": {},
   "outputs": [
    {
     "name": "stdout",
     "output_type": "stream",
     "text": [
      "Hello world\n"
     ]
    }
   ],
   "source": [
    "# Dinh nghia ham so\n",
    "def in_ra_man_hinh(x):\n",
    "    print(x)\n",
    "    \n",
    "# Su dung ham so 'in_ra_man_hinh' len bieu thuc c\n",
    "in_ra_man_hinh(c)"
   ]
  }
 ],
 "metadata": {
  "kernelspec": {
   "display_name": "Python 3 (ipykernel)",
   "language": "python",
   "name": "python3"
  },
  "language_info": {
   "codemirror_mode": {
    "name": "ipython",
    "version": 3
   },
   "file_extension": ".py",
   "mimetype": "text/x-python",
   "name": "python",
   "nbconvert_exporter": "python",
   "pygments_lexer": "ipython3",
   "version": "3.9.7"
  }
 },
 "nbformat": 4,
 "nbformat_minor": 5
}
